{
 "metadata": {
  "language_info": {
   "codemirror_mode": {
    "name": "ipython",
    "version": 3
   },
   "file_extension": ".py",
   "mimetype": "text/x-python",
   "name": "python",
   "nbconvert_exporter": "python",
   "pygments_lexer": "ipython3",
   "version": "3.7.4-final"
  },
  "orig_nbformat": 2,
  "kernelspec": {
   "name": "python37464bitbasecondad88a0fa7b781497481168e5190228017",
   "display_name": "Python 3.7.4 64-bit ('base': conda)",
   "language": "python"
  }
 },
 "nbformat": 4,
 "nbformat_minor": 2,
 "cells": [
  {
   "cell_type": "code",
   "execution_count": 1,
   "metadata": {},
   "outputs": [],
   "source": [
    "from sklearn.datasets import fetch_openml\n",
    "\n",
    "x, y = fetch_openml('mnist_784', version=1, return_X_y=True)"
   ]
  },
  {
   "cell_type": "code",
   "execution_count": 2,
   "metadata": {},
   "outputs": [],
   "source": [
    "x = (x/255).astype('float32')"
   ]
  },
  {
   "cell_type": "code",
   "execution_count": 3,
   "metadata": {},
   "outputs": [],
   "source": [
    "from keras.utils.np_utils import to_categorical\n",
    "import numpy as np\n",
    "from sklearn.model_selection import train_test_split\n",
    "import time"
   ]
  },
  {
   "cell_type": "code",
   "execution_count": 4,
   "metadata": {},
   "outputs": [],
   "source": [
    "y = to_categorical(y)\n",
    "\n",
    "x_train, x_val, y_train, y_val = train_test_split(x, y, test_size=0.15, random_state=42)"
   ]
  },
  {
   "cell_type": "code",
   "execution_count": 89,
   "metadata": {},
   "outputs": [
    {
     "output_type": "execute_result",
     "data": {
      "text/plain": [
       "array([1., 0., 0., 0., 0., 0., 0., 0., 0., 0.], dtype=float32)"
      ]
     },
     "metadata": {},
     "execution_count": 89
    }
   ],
   "source": [
    "y[1]"
   ]
  },
  {
   "cell_type": "code",
   "execution_count": 147,
   "metadata": {},
   "outputs": [
    {
     "output_type": "stream",
     "name": "stdout",
     "text": [
      "The autoreload extension is already loaded. To reload it, use:\n  %reload_ext autoreload\n"
     ]
    }
   ],
   "source": [
    "%load_ext autoreload\n",
    "%autoreload 2"
   ]
  },
  {
   "cell_type": "code",
   "execution_count": 267,
   "metadata": {},
   "outputs": [],
   "source": [
    "from network import Network\n",
    "\n",
    "net = Network()"
   ]
  },
  {
   "cell_type": "code",
   "execution_count": 268,
   "metadata": {},
   "outputs": [],
   "source": [
    "net.addInputLayer(784)\n",
    "net.addLayer(128, 'Relu')\n",
    "net.addLayer(60, 'Relu')\n",
    "net.addLayer(10, 'Softmax')"
   ]
  },
  {
   "cell_type": "code",
   "execution_count": 269,
   "metadata": {},
   "outputs": [
    {
     "output_type": "execute_result",
     "data": {
      "text/plain": [
       "0.09504761904761905"
      ]
     },
     "metadata": {},
     "execution_count": 269
    }
   ],
   "source": [
    "net.accuracy(x_val,y_val)"
   ]
  },
  {
   "cell_type": "code",
   "execution_count": 270,
   "metadata": {
    "tags": []
   },
   "outputs": [
    {
     "output_type": "stream",
     "name": "stderr",
     "text": [
      "100%|██████████| 2975/2975 [00:08<00:00, 336.58it/s]\n",
      "100%|██████████| 2975/2975 [00:09<00:00, 316.10it/s]\n",
      "100%|██████████| 2975/2975 [00:09<00:00, 306.42it/s]\n",
      "100%|██████████| 2975/2975 [00:10<00:00, 296.42it/s]\n",
      "100%|██████████| 2975/2975 [00:10<00:00, 297.29it/s]\n",
      "100%|██████████| 2975/2975 [00:09<00:00, 298.13it/s]\n",
      "100%|██████████| 2975/2975 [00:09<00:00, 297.76it/s]\n",
      "100%|██████████| 2975/2975 [00:09<00:00, 300.91it/s]\n",
      "100%|██████████| 2975/2975 [00:09<00:00, 302.91it/s]\n",
      "100%|██████████| 2975/2975 [00:09<00:00, 308.84it/s]\n",
      "100%|██████████| 2975/2975 [00:09<00:00, 301.92it/s]\n",
      "100%|██████████| 2975/2975 [00:10<00:00, 294.69it/s]\n",
      "100%|██████████| 2975/2975 [00:10<00:00, 293.50it/s]\n",
      "100%|██████████| 2975/2975 [00:10<00:00, 294.62it/s]\n",
      "100%|██████████| 2975/2975 [00:10<00:00, 294.03it/s]\n",
      "100%|██████████| 2975/2975 [00:10<00:00, 290.73it/s]\n",
      "100%|██████████| 2975/2975 [00:10<00:00, 287.83it/s]\n",
      "100%|██████████| 2975/2975 [00:10<00:00, 286.23it/s]\n",
      "100%|██████████| 2975/2975 [00:10<00:00, 288.22it/s]\n",
      "100%|██████████| 2975/2975 [00:10<00:00, 286.83it/s]\n"
     ]
    },
    {
     "output_type": "execute_result",
     "data": {
      "text/plain": [
       "0.9235238095238095"
      ]
     },
     "metadata": {},
     "execution_count": 270
    }
   ],
   "source": [
    "net.train(x_train,y_train, 20, leaning_rate=0.001)\n",
    "net.accuracy(x_val,y_val)"
   ]
  },
  {
   "cell_type": "code",
   "execution_count": 323,
   "metadata": {},
   "outputs": [],
   "source": [
    "def draw_predict(x,y):\n",
    "\n",
    "    prediction = net.predict(x)\n",
    "    #outpt = net.calculateOutput(x)\n",
    "    print('Your number is', prediction)\n",
    "    #print(outpt)\n",
    "\n",
    "    import matplotlib.pyplot as plt\n",
    "\n",
    "    img = np.reshape(x,(28,28))\n",
    "\n",
    "    plt.imshow(img)\n",
    "\n",
    "    plt.show()"
   ]
  },
  {
   "cell_type": "code",
   "execution_count": 334,
   "metadata": {},
   "outputs": [],
   "source": [
    "i = 3000"
   ]
  },
  {
   "cell_type": "code",
   "execution_count": 359,
   "metadata": {},
   "outputs": [
    {
     "output_type": "stream",
     "name": "stdout",
     "text": [
      "Your number is 2\n"
     ]
    },
    {
     "output_type": "display_data",
     "data": {
      "text/plain": "<Figure size 432x288 with 1 Axes>",
      "image/svg+xml": "<?xml version=\"1.0\" encoding=\"utf-8\" standalone=\"no\"?>\n<!DOCTYPE svg PUBLIC \"-//W3C//DTD SVG 1.1//EN\"\n  \"http://www.w3.org/Graphics/SVG/1.1/DTD/svg11.dtd\">\n<!-- Created with matplotlib (https://matplotlib.org/) -->\n<svg height=\"248.518125pt\" version=\"1.1\" viewBox=\"0 0 251.565 248.518125\" width=\"251.565pt\" xmlns=\"http://www.w3.org/2000/svg\" xmlns:xlink=\"http://www.w3.org/1999/xlink\">\n <defs>\n  <style type=\"text/css\">\n*{stroke-linecap:butt;stroke-linejoin:round;}\n  </style>\n </defs>\n <g id=\"figure_1\">\n  <g id=\"patch_1\">\n   <path d=\"M 0 248.518125 \nL 251.565 248.518125 \nL 251.565 0 \nL 0 0 \nz\n\" style=\"fill:none;\"/>\n  </g>\n  <g id=\"axes_1\">\n   <g id=\"patch_2\">\n    <path d=\"M 26.925 224.64 \nL 244.365 224.64 \nL 244.365 7.2 \nL 26.925 7.2 \nz\n\" style=\"fill:#ffffff;\"/>\n   </g>\n   <g clip-path=\"url(#p6989a05fe6)\">\n    <image height=\"218\" id=\"image112ecfad55\" transform=\"scale(1 -1)translate(0 -218)\" width=\"218\" x=\"26.925\" xlink:href=\"data:image/png;base64,\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\" y=\"-6.64\"/>\n   </g>\n   <g id=\"matplotlib.axis_1\">\n    <g id=\"xtick_1\">\n     <g id=\"line2d_1\">\n      <defs>\n       <path d=\"M 0 0 \nL 0 3.5 \n\" id=\"me5fd10c7c6\" style=\"stroke:#000000;stroke-width:0.8;\"/>\n      </defs>\n      <g>\n       <use style=\"stroke:#000000;stroke-width:0.8;\" x=\"30.807857\" xlink:href=\"#me5fd10c7c6\" y=\"224.64\"/>\n      </g>\n     </g>\n     <g id=\"text_1\">\n      <!-- 0 -->\n      <defs>\n       <path d=\"M 31.78125 66.40625 \nQ 24.171875 66.40625 20.328125 58.90625 \nQ 16.5 51.421875 16.5 36.375 \nQ 16.5 21.390625 20.328125 13.890625 \nQ 24.171875 6.390625 31.78125 6.390625 \nQ 39.453125 6.390625 43.28125 13.890625 \nQ 47.125 21.390625 47.125 36.375 \nQ 47.125 51.421875 43.28125 58.90625 \nQ 39.453125 66.40625 31.78125 66.40625 \nz\nM 31.78125 74.21875 \nQ 44.046875 74.21875 50.515625 64.515625 \nQ 56.984375 54.828125 56.984375 36.375 \nQ 56.984375 17.96875 50.515625 8.265625 \nQ 44.046875 -1.421875 31.78125 -1.421875 \nQ 19.53125 -1.421875 13.0625 8.265625 \nQ 6.59375 17.96875 6.59375 36.375 \nQ 6.59375 54.828125 13.0625 64.515625 \nQ 19.53125 74.21875 31.78125 74.21875 \nz\n\" id=\"DejaVuSans-48\"/>\n      </defs>\n      <g transform=\"translate(27.626607 239.238437)scale(0.1 -0.1)\">\n       <use xlink:href=\"#DejaVuSans-48\"/>\n      </g>\n     </g>\n    </g>\n    <g id=\"xtick_2\">\n     <g id=\"line2d_2\">\n      <g>\n       <use style=\"stroke:#000000;stroke-width:0.8;\" x=\"69.636429\" xlink:href=\"#me5fd10c7c6\" y=\"224.64\"/>\n      </g>\n     </g>\n     <g id=\"text_2\">\n      <!-- 5 -->\n      <defs>\n       <path d=\"M 10.796875 72.90625 \nL 49.515625 72.90625 \nL 49.515625 64.59375 \nL 19.828125 64.59375 \nL 19.828125 46.734375 \nQ 21.96875 47.46875 24.109375 47.828125 \nQ 26.265625 48.1875 28.421875 48.1875 \nQ 40.625 48.1875 47.75 41.5 \nQ 54.890625 34.8125 54.890625 23.390625 \nQ 54.890625 11.625 47.5625 5.09375 \nQ 40.234375 -1.421875 26.90625 -1.421875 \nQ 22.3125 -1.421875 17.546875 -0.640625 \nQ 12.796875 0.140625 7.71875 1.703125 \nL 7.71875 11.625 \nQ 12.109375 9.234375 16.796875 8.0625 \nQ 21.484375 6.890625 26.703125 6.890625 \nQ 35.15625 6.890625 40.078125 11.328125 \nQ 45.015625 15.765625 45.015625 23.390625 \nQ 45.015625 31 40.078125 35.4375 \nQ 35.15625 39.890625 26.703125 39.890625 \nQ 22.75 39.890625 18.8125 39.015625 \nQ 14.890625 38.140625 10.796875 36.28125 \nz\n\" id=\"DejaVuSans-53\"/>\n      </defs>\n      <g transform=\"translate(66.455179 239.238437)scale(0.1 -0.1)\">\n       <use xlink:href=\"#DejaVuSans-53\"/>\n      </g>\n     </g>\n    </g>\n    <g id=\"xtick_3\">\n     <g id=\"line2d_3\">\n      <g>\n       <use style=\"stroke:#000000;stroke-width:0.8;\" x=\"108.465\" xlink:href=\"#me5fd10c7c6\" y=\"224.64\"/>\n      </g>\n     </g>\n     <g id=\"text_3\">\n      <!-- 10 -->\n      <defs>\n       <path d=\"M 12.40625 8.296875 \nL 28.515625 8.296875 \nL 28.515625 63.921875 \nL 10.984375 60.40625 \nL 10.984375 69.390625 \nL 28.421875 72.90625 \nL 38.28125 72.90625 \nL 38.28125 8.296875 \nL 54.390625 8.296875 \nL 54.390625 0 \nL 12.40625 0 \nz\n\" id=\"DejaVuSans-49\"/>\n      </defs>\n      <g transform=\"translate(102.1025 239.238437)scale(0.1 -0.1)\">\n       <use xlink:href=\"#DejaVuSans-49\"/>\n       <use x=\"63.623047\" xlink:href=\"#DejaVuSans-48\"/>\n      </g>\n     </g>\n    </g>\n    <g id=\"xtick_4\">\n     <g id=\"line2d_4\">\n      <g>\n       <use style=\"stroke:#000000;stroke-width:0.8;\" x=\"147.293571\" xlink:href=\"#me5fd10c7c6\" y=\"224.64\"/>\n      </g>\n     </g>\n     <g id=\"text_4\">\n      <!-- 15 -->\n      <g transform=\"translate(140.931071 239.238437)scale(0.1 -0.1)\">\n       <use xlink:href=\"#DejaVuSans-49\"/>\n       <use x=\"63.623047\" xlink:href=\"#DejaVuSans-53\"/>\n      </g>\n     </g>\n    </g>\n    <g id=\"xtick_5\">\n     <g id=\"line2d_5\">\n      <g>\n       <use style=\"stroke:#000000;stroke-width:0.8;\" x=\"186.122143\" xlink:href=\"#me5fd10c7c6\" y=\"224.64\"/>\n      </g>\n     </g>\n     <g id=\"text_5\">\n      <!-- 20 -->\n      <defs>\n       <path d=\"M 19.1875 8.296875 \nL 53.609375 8.296875 \nL 53.609375 0 \nL 7.328125 0 \nL 7.328125 8.296875 \nQ 12.9375 14.109375 22.625 23.890625 \nQ 32.328125 33.6875 34.8125 36.53125 \nQ 39.546875 41.84375 41.421875 45.53125 \nQ 43.3125 49.21875 43.3125 52.78125 \nQ 43.3125 58.59375 39.234375 62.25 \nQ 35.15625 65.921875 28.609375 65.921875 \nQ 23.96875 65.921875 18.8125 64.3125 \nQ 13.671875 62.703125 7.8125 59.421875 \nL 7.8125 69.390625 \nQ 13.765625 71.78125 18.9375 73 \nQ 24.125 74.21875 28.421875 74.21875 \nQ 39.75 74.21875 46.484375 68.546875 \nQ 53.21875 62.890625 53.21875 53.421875 \nQ 53.21875 48.921875 51.53125 44.890625 \nQ 49.859375 40.875 45.40625 35.40625 \nQ 44.1875 33.984375 37.640625 27.21875 \nQ 31.109375 20.453125 19.1875 8.296875 \nz\n\" id=\"DejaVuSans-50\"/>\n      </defs>\n      <g transform=\"translate(179.759643 239.238437)scale(0.1 -0.1)\">\n       <use xlink:href=\"#DejaVuSans-50\"/>\n       <use x=\"63.623047\" xlink:href=\"#DejaVuSans-48\"/>\n      </g>\n     </g>\n    </g>\n    <g id=\"xtick_6\">\n     <g id=\"line2d_6\">\n      <g>\n       <use style=\"stroke:#000000;stroke-width:0.8;\" x=\"224.950714\" xlink:href=\"#me5fd10c7c6\" y=\"224.64\"/>\n      </g>\n     </g>\n     <g id=\"text_6\">\n      <!-- 25 -->\n      <g transform=\"translate(218.588214 239.238437)scale(0.1 -0.1)\">\n       <use xlink:href=\"#DejaVuSans-50\"/>\n       <use x=\"63.623047\" xlink:href=\"#DejaVuSans-53\"/>\n      </g>\n     </g>\n    </g>\n   </g>\n   <g id=\"matplotlib.axis_2\">\n    <g id=\"ytick_1\">\n     <g id=\"line2d_7\">\n      <defs>\n       <path d=\"M 0 0 \nL -3.5 0 \n\" id=\"mdd37aec4fe\" style=\"stroke:#000000;stroke-width:0.8;\"/>\n      </defs>\n      <g>\n       <use style=\"stroke:#000000;stroke-width:0.8;\" x=\"26.925\" xlink:href=\"#mdd37aec4fe\" y=\"11.082857\"/>\n      </g>\n     </g>\n     <g id=\"text_7\">\n      <!-- 0 -->\n      <g transform=\"translate(13.5625 14.882076)scale(0.1 -0.1)\">\n       <use xlink:href=\"#DejaVuSans-48\"/>\n      </g>\n     </g>\n    </g>\n    <g id=\"ytick_2\">\n     <g id=\"line2d_8\">\n      <g>\n       <use style=\"stroke:#000000;stroke-width:0.8;\" x=\"26.925\" xlink:href=\"#mdd37aec4fe\" y=\"49.911429\"/>\n      </g>\n     </g>\n     <g id=\"text_8\">\n      <!-- 5 -->\n      <g transform=\"translate(13.5625 53.710647)scale(0.1 -0.1)\">\n       <use xlink:href=\"#DejaVuSans-53\"/>\n      </g>\n     </g>\n    </g>\n    <g id=\"ytick_3\">\n     <g id=\"line2d_9\">\n      <g>\n       <use style=\"stroke:#000000;stroke-width:0.8;\" x=\"26.925\" xlink:href=\"#mdd37aec4fe\" y=\"88.74\"/>\n      </g>\n     </g>\n     <g id=\"text_9\">\n      <!-- 10 -->\n      <g transform=\"translate(7.2 92.539219)scale(0.1 -0.1)\">\n       <use xlink:href=\"#DejaVuSans-49\"/>\n       <use x=\"63.623047\" xlink:href=\"#DejaVuSans-48\"/>\n      </g>\n     </g>\n    </g>\n    <g id=\"ytick_4\">\n     <g id=\"line2d_10\">\n      <g>\n       <use style=\"stroke:#000000;stroke-width:0.8;\" x=\"26.925\" xlink:href=\"#mdd37aec4fe\" y=\"127.568571\"/>\n      </g>\n     </g>\n     <g id=\"text_10\">\n      <!-- 15 -->\n      <g transform=\"translate(7.2 131.36779)scale(0.1 -0.1)\">\n       <use xlink:href=\"#DejaVuSans-49\"/>\n       <use x=\"63.623047\" xlink:href=\"#DejaVuSans-53\"/>\n      </g>\n     </g>\n    </g>\n    <g id=\"ytick_5\">\n     <g id=\"line2d_11\">\n      <g>\n       <use style=\"stroke:#000000;stroke-width:0.8;\" x=\"26.925\" xlink:href=\"#mdd37aec4fe\" y=\"166.397143\"/>\n      </g>\n     </g>\n     <g id=\"text_11\">\n      <!-- 20 -->\n      <g transform=\"translate(7.2 170.196362)scale(0.1 -0.1)\">\n       <use xlink:href=\"#DejaVuSans-50\"/>\n       <use x=\"63.623047\" xlink:href=\"#DejaVuSans-48\"/>\n      </g>\n     </g>\n    </g>\n    <g id=\"ytick_6\">\n     <g id=\"line2d_12\">\n      <g>\n       <use style=\"stroke:#000000;stroke-width:0.8;\" x=\"26.925\" xlink:href=\"#mdd37aec4fe\" y=\"205.225714\"/>\n      </g>\n     </g>\n     <g id=\"text_12\">\n      <!-- 25 -->\n      <g transform=\"translate(7.2 209.024933)scale(0.1 -0.1)\">\n       <use xlink:href=\"#DejaVuSans-50\"/>\n       <use x=\"63.623047\" xlink:href=\"#DejaVuSans-53\"/>\n      </g>\n     </g>\n    </g>\n   </g>\n   <g id=\"patch_3\">\n    <path d=\"M 26.925 224.64 \nL 26.925 7.2 \n\" style=\"fill:none;stroke:#000000;stroke-linecap:square;stroke-linejoin:miter;stroke-width:0.8;\"/>\n   </g>\n   <g id=\"patch_4\">\n    <path d=\"M 244.365 224.64 \nL 244.365 7.2 \n\" style=\"fill:none;stroke:#000000;stroke-linecap:square;stroke-linejoin:miter;stroke-width:0.8;\"/>\n   </g>\n   <g id=\"patch_5\">\n    <path d=\"M 26.925 224.64 \nL 244.365 224.64 \n\" style=\"fill:none;stroke:#000000;stroke-linecap:square;stroke-linejoin:miter;stroke-width:0.8;\"/>\n   </g>\n   <g id=\"patch_6\">\n    <path d=\"M 26.925 7.2 \nL 244.365 7.2 \n\" style=\"fill:none;stroke:#000000;stroke-linecap:square;stroke-linejoin:miter;stroke-width:0.8;\"/>\n   </g>\n  </g>\n </g>\n <defs>\n  <clipPath id=\"p6989a05fe6\">\n   <rect height=\"217.44\" width=\"217.44\" x=\"26.925\" y=\"7.2\"/>\n  </clipPath>\n </defs>\n</svg>\n",
      "image/png": "[encoded data removed]"
     },
     "metadata": {
      "needs_background": "light"
     }
    }
   ],
   "source": [
    "i += 10\n",
    "draw_predict(x_val[i],y_val[i])"
   ]
  },
  {
   "cell_type": "code",
   "execution_count": 241,
   "metadata": {},
   "outputs": [
    {
     "output_type": "execute_result",
     "data": {
      "text/plain": [
       "(784,)"
      ]
     },
     "metadata": {},
     "execution_count": 241
    }
   ],
   "source": [
    "x_val[100].shape"
   ]
  },
  {
   "cell_type": "code",
   "execution_count": 198,
   "metadata": {},
   "outputs": [
    {
     "output_type": "execute_result",
     "data": {
      "text/plain": [
       "array([[0.14981359, 0.15375382, 0.1635904 , ..., 0.17911038, 0.03799643,\n",
       "        0.03915757],\n",
       "       [0.12515556, 0.1286733 , 0.13928758, ..., 0.1483915 , 0.03251546,\n",
       "        0.03141588],\n",
       "       [0.13802227, 0.13636732, 0.13062805, ..., 0.14717411, 0.04340535,\n",
       "        0.0313735 ],\n",
       "       ...,\n",
       "       [0.11275544, 0.12091068, 0.1161254 , ..., 0.13023194, 0.03467181,\n",
       "        0.0265118 ],\n",
       "       [0.14813767, 0.15614378, 0.16531486, ..., 0.17855703, 0.04075845,\n",
       "        0.03959459],\n",
       "       [0.16223885, 0.16954849, 0.17278738, ..., 0.19210465, 0.04452176,\n",
       "        0.04029611]])"
      ]
     },
     "metadata": {},
     "execution_count": 198
    }
   ],
   "source": [
    "net.weightGrads[1]"
   ]
  },
  {
   "cell_type": "code",
   "execution_count": null,
   "metadata": {},
   "outputs": [],
   "source": []
  }
 ]
}